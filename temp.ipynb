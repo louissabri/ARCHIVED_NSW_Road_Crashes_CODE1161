{
 "cells": [
  {
   "cell_type": "code",
   "execution_count": 3,
   "metadata": {},
   "outputs": [
    {
     "ename": "SyntaxError",
     "evalue": "expression expected after dictionary key and ':' (1558155230.py, line 4)",
     "output_type": "error",
     "traceback": [
      "\u001b[1;36m  Input \u001b[1;32mIn [3]\u001b[1;36m\u001b[0m\n\u001b[1;33m    'geometry': <shapely.geometry.polygon.Polygon at 0x1ebce74d0c0>,\u001b[0m\n\u001b[1;37m              ^\u001b[0m\n\u001b[1;31mSyntaxError\u001b[0m\u001b[1;31m:\u001b[0m expression expected after dictionary key and ':'\n"
     ]
    }
   ],
   "source": [
    "import geopandas as gpd\n",
    "\n",
    "data = [{'LOC_NAME': 'Bankstown',\n",
    "  'geometry': <shapely.geometry.polygon.Polygon at 0x1ebce74d0c0>,\n",
    "  'total_crashes': 913},\n",
    "{'LOC_NAME': 'Liverpool',\n",
    "  'geometry': <shapely.geometry.polygon.Polygon at 0x1ebc2dcf5b0>,\n",
    "  'total_crashes': 794},\n",
    "{'LOC_NAME': 'Sydney',\n",
    "  'geometry': <shapely.geometry.polygon.Polygon at 0x1ebc2d01ed0>,\n",
    "  'total_crashes': 786},\n",
    "{'LOC_NAME': 'Auburn',\n",
    "  'geometry': <shapely.geometry.polygon.Polygon at 0x1ebce74c400>,\n",
    "  'total_crashes': 719},\n",
    "{'LOC_NAME': 'Merrylands',\n",
    "  'geometry': <shapely.geometry.polygon.Polygon at 0x1ebc2dabca0>,\n",
    "  'total_crashes': 650}]\n",
    "\n",
    "gdf = gpd.GeoDataFrame(data)\n",
    "gdf.explore()"
   ]
  }
 ],
 "metadata": {
  "kernelspec": {
   "display_name": "Python 3.10.4 64-bit",
   "language": "python",
   "name": "python3"
  },
  "language_info": {
   "codemirror_mode": {
    "name": "ipython",
    "version": 3
   },
   "file_extension": ".py",
   "mimetype": "text/x-python",
   "name": "python",
   "nbconvert_exporter": "python",
   "pygments_lexer": "ipython3",
   "version": "3.10.4"
  },
  "orig_nbformat": 4,
  "vscode": {
   "interpreter": {
    "hash": "6f5b53ea504ebfa04f8fb7433339a268f74c2ccc58003020fc3ce3105a10d9ba"
   }
  }
 },
 "nbformat": 4,
 "nbformat_minor": 2
}
