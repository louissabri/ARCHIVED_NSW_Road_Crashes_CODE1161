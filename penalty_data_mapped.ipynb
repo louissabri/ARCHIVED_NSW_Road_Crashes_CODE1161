{
 "cells": [
  {
   "cell_type": "code",
   "execution_count": 94,
   "metadata": {},
   "outputs": [],
   "source": [
    "# imports\n",
    "import matplotlib\n",
    "import matplotlib.pyplot as plt\n",
    "import numpy as np\n",
    "import pandas as pd\n",
    "import geopandas as gpd\n",
    "import folium\n",
    "import rtree\n",
    "import difflib\n",
    "from io import StringIO\n",
    "\n",
    "# show graphs & charts inline\n",
    "%matplotlib inline \n",
    "plt.rcParams[\"figure.figsize\"] = (15, 7) # define plot size\n",
    "saved_style_state = matplotlib.rcParams.copy() # give us a style state to go back to"
   ]
  },
  {
   "cell_type": "code",
   "execution_count": 120,
   "metadata": {},
   "outputs": [
    {
     "name": "stdout",
     "output_type": "stream",
     "text": [
      "done\n"
     ]
    }
   ],
   "source": [
    "df_penaltyData = pd.read_csv(\"data/penalty_data_set_0.csv\")\n",
    "print(\"done\")"
   ]
  },
  {
   "cell_type": "code",
   "execution_count": 121,
   "metadata": {},
   "outputs": [
    {
     "data": {
      "text/html": [
       "<div>\n",
       "<style scoped>\n",
       "    .dataframe tbody tr th:only-of-type {\n",
       "        vertical-align: middle;\n",
       "    }\n",
       "\n",
       "    .dataframe tbody tr th {\n",
       "        vertical-align: top;\n",
       "    }\n",
       "\n",
       "    .dataframe thead th {\n",
       "        text-align: right;\n",
       "    }\n",
       "</style>\n",
       "<table border=\"1\" class=\"dataframe\">\n",
       "  <thead>\n",
       "    <tr style=\"text-align: right;\">\n",
       "      <th></th>\n",
       "      <th>OFFENCE_FINYEAR</th>\n",
       "      <th>LEGISLATION</th>\n",
       "      <th>FACE_VALUE</th>\n",
       "      <th>CAMERA_IND</th>\n",
       "      <th>CAMERA_TYPE</th>\n",
       "      <th>LOCATION_DETAILS</th>\n",
       "      <th>TOTAL_NUMBER</th>\n",
       "      <th>TOTAL_VALUE</th>\n",
       "    </tr>\n",
       "  </thead>\n",
       "  <tbody>\n",
       "    <tr>\n",
       "      <th>0</th>\n",
       "      <td>2011-2012</td>\n",
       "      <td>ROAD RULES 2008</td>\n",
       "      <td>353</td>\n",
       "      <td>Y</td>\n",
       "      <td>Red Light / Speed Camera</td>\n",
       "      <td>VICTORIA ROAD ROZELLE EASTBOUND</td>\n",
       "      <td>46</td>\n",
       "      <td>16238</td>\n",
       "    </tr>\n",
       "    <tr>\n",
       "      <th>1</th>\n",
       "      <td>2011-2012</td>\n",
       "      <td>ROAD RULES 2008</td>\n",
       "      <td>265</td>\n",
       "      <td>NaN</td>\n",
       "      <td>NaN</td>\n",
       "      <td>NaN</td>\n",
       "      <td>78</td>\n",
       "      <td>20670</td>\n",
       "    </tr>\n",
       "  </tbody>\n",
       "</table>\n",
       "</div>"
      ],
      "text/plain": [
       "  OFFENCE_FINYEAR      LEGISLATION  FACE_VALUE CAMERA_IND  \\\n",
       "0       2011-2012  ROAD RULES 2008         353          Y   \n",
       "1       2011-2012  ROAD RULES 2008         265        NaN   \n",
       "\n",
       "                CAMERA_TYPE                 LOCATION_DETAILS  TOTAL_NUMBER  \\\n",
       "0  Red Light / Speed Camera  VICTORIA ROAD ROZELLE EASTBOUND            46   \n",
       "1                       NaN                              NaN            78   \n",
       "\n",
       "   TOTAL_VALUE  \n",
       "0        16238  \n",
       "1        20670  "
      ]
     },
     "execution_count": 121,
     "metadata": {},
     "output_type": "execute_result"
    }
   ],
   "source": [
    "cols_to_drop = ['OFFENCE_MONTH', 'OFFENCE_CODE', 'OFFENCE_DESC',\n",
    "        'SECTION_CLAUSE', 'LOCATION_CODE','SCHOOL_ZONE_IND',\n",
    "       'SPEED_BAND', 'SPEED_IND', 'POINT_TO_POINT_IND', 'RED_LIGHT_CAMERA_IND',\n",
    "       'SPEED_CAMERA_IND', 'SEATBELT_IND', 'MOBILE_PHONE_IND', 'PARKING_IND',\n",
    "       'CINS_IND', 'FOOD_IND', 'BICYCLE_TOY_ETC_IND']\n",
    "\n",
    "df_penaltyData = df_penaltyData.drop(cols_to_drop, axis=1)\n",
    "df_penaltyData.head(2)"
   ]
  },
  {
   "cell_type": "code",
   "execution_count": 122,
   "metadata": {},
   "outputs": [
    {
     "data": {
      "text/plain": [
       "(246305, 8)"
      ]
     },
     "execution_count": 122,
     "metadata": {},
     "output_type": "execute_result"
    }
   ],
   "source": [
    "df_penaltyData.shape"
   ]
  },
  {
   "cell_type": "code",
   "execution_count": 123,
   "metadata": {},
   "outputs": [
    {
     "data": {
      "text/plain": [
       "(157760, 8)"
      ]
     },
     "execution_count": 123,
     "metadata": {},
     "output_type": "execute_result"
    }
   ],
   "source": [
    "is_cam = df_penaltyData[\"CAMERA_IND\"]==\"Y\"\n",
    "\n",
    "df_penaltyData = df_penaltyData[is_cam]\n",
    "df_penaltyData.shape"
   ]
  },
  {
   "cell_type": "code",
   "execution_count": 124,
   "metadata": {},
   "outputs": [
    {
     "name": "stdout",
     "output_type": "stream",
     "text": [
      "done\n"
     ]
    }
   ],
   "source": [
    "df_cams = pd.read_csv(\"data/Fixed Speed Cameras.csv\")\n",
    "print(\"done\")"
   ]
  },
  {
   "cell_type": "code",
   "execution_count": 125,
   "metadata": {},
   "outputs": [
    {
     "data": {
      "text/html": [
       "<div>\n",
       "<style scoped>\n",
       "    .dataframe tbody tr th:only-of-type {\n",
       "        vertical-align: middle;\n",
       "    }\n",
       "\n",
       "    .dataframe tbody tr th {\n",
       "        vertical-align: top;\n",
       "    }\n",
       "\n",
       "    .dataframe thead th {\n",
       "        text-align: right;\n",
       "    }\n",
       "</style>\n",
       "<table border=\"1\" class=\"dataframe\">\n",
       "  <thead>\n",
       "    <tr style=\"text-align: right;\">\n",
       "      <th></th>\n",
       "      <th>SZ?</th>\n",
       "      <th>SUBURB/TOWN</th>\n",
       "      <th>ROAD/S</th>\n",
       "      <th>Cameras</th>\n",
       "      <th>Lat(1)</th>\n",
       "      <th>Long(1)</th>\n",
       "      <th>Lat(2)</th>\n",
       "      <th>Long(2)</th>\n",
       "    </tr>\n",
       "  </thead>\n",
       "  <tbody>\n",
       "    <tr>\n",
       "      <th>0</th>\n",
       "      <td>Y</td>\n",
       "      <td>Ashfield</td>\n",
       "      <td>Hume Highway, between Murrell Street and Queen...</td>\n",
       "      <td>1</td>\n",
       "      <td>-33.890177</td>\n",
       "      <td>151.127985</td>\n",
       "      <td>NaN</td>\n",
       "      <td>NaN</td>\n",
       "    </tr>\n",
       "    <tr>\n",
       "      <th>1</th>\n",
       "      <td>N</td>\n",
       "      <td>Auburn</td>\n",
       "      <td>Parramatta Road, between Harbord Street and Du...</td>\n",
       "      <td>1</td>\n",
       "      <td>-33.835963</td>\n",
       "      <td>151.023621</td>\n",
       "      <td>NaN</td>\n",
       "      <td>NaN</td>\n",
       "    </tr>\n",
       "  </tbody>\n",
       "</table>\n",
       "</div>"
      ],
      "text/plain": [
       "  SZ? SUBURB/TOWN                                             ROAD/S  Cameras  \\\n",
       "0   Y    Ashfield  Hume Highway, between Murrell Street and Queen...        1   \n",
       "1   N      Auburn  Parramatta Road, between Harbord Street and Du...        1   \n",
       "\n",
       "      Lat(1)     Long(1)  Lat(2)  Long(2)  \n",
       "0 -33.890177  151.127985     NaN      NaN  \n",
       "1 -33.835963  151.023621     NaN      NaN  "
      ]
     },
     "execution_count": 125,
     "metadata": {},
     "output_type": "execute_result"
    }
   ],
   "source": [
    "df_cams.head(2)"
   ]
  },
  {
   "cell_type": "code",
   "execution_count": 126,
   "metadata": {},
   "outputs": [],
   "source": [
    "df_cams[\"LOCATION_DETAILS\"] = df_cams[\"SUBURB/TOWN\"] + \" \" + df_cams[\"ROAD/S\"]"
   ]
  },
  {
   "cell_type": "code",
   "execution_count": 127,
   "metadata": {},
   "outputs": [
    {
     "data": {
      "text/html": [
       "<div>\n",
       "<style scoped>\n",
       "    .dataframe tbody tr th:only-of-type {\n",
       "        vertical-align: middle;\n",
       "    }\n",
       "\n",
       "    .dataframe tbody tr th {\n",
       "        vertical-align: top;\n",
       "    }\n",
       "\n",
       "    .dataframe thead th {\n",
       "        text-align: right;\n",
       "    }\n",
       "</style>\n",
       "<table border=\"1\" class=\"dataframe\">\n",
       "  <thead>\n",
       "    <tr style=\"text-align: right;\">\n",
       "      <th></th>\n",
       "      <th>Cameras</th>\n",
       "      <th>Lat(1)</th>\n",
       "      <th>Long(1)</th>\n",
       "      <th>LOCATION_DETAILS</th>\n",
       "    </tr>\n",
       "  </thead>\n",
       "  <tbody>\n",
       "    <tr>\n",
       "      <th>0</th>\n",
       "      <td>1</td>\n",
       "      <td>-33.890177</td>\n",
       "      <td>151.127985</td>\n",
       "      <td>ASHFIELD HUME HIGHWAY</td>\n",
       "    </tr>\n",
       "    <tr>\n",
       "      <th>1</th>\n",
       "      <td>1</td>\n",
       "      <td>-33.835963</td>\n",
       "      <td>151.023621</td>\n",
       "      <td>AUBURN PARRAMATTA ROAD</td>\n",
       "    </tr>\n",
       "  </tbody>\n",
       "</table>\n",
       "</div>"
      ],
      "text/plain": [
       "   Cameras     Lat(1)     Long(1)        LOCATION_DETAILS\n",
       "0        1 -33.890177  151.127985   ASHFIELD HUME HIGHWAY\n",
       "1        1 -33.835963  151.023621  AUBURN PARRAMATTA ROAD"
      ]
     },
     "execution_count": 127,
     "metadata": {},
     "output_type": "execute_result"
    }
   ],
   "source": [
    "df_cams[\"LOCATION_DETAILS\"] = df_cams[\"LOCATION_DETAILS\"].str.upper().str.split(\",\").str[0]\n",
    "df_cams = df_cams.drop([\"SZ?\",\"SUBURB/TOWN\", \"ROAD/S\", \"Lat(2)\", \"Long(2)\"], axis=1)\n",
    "df_cams.head(2)"
   ]
  },
  {
   "cell_type": "code",
   "execution_count": 128,
   "metadata": {},
   "outputs": [
    {
     "data": {
      "text/html": [
       "<div>\n",
       "<style scoped>\n",
       "    .dataframe tbody tr th:only-of-type {\n",
       "        vertical-align: middle;\n",
       "    }\n",
       "\n",
       "    .dataframe tbody tr th {\n",
       "        vertical-align: top;\n",
       "    }\n",
       "\n",
       "    .dataframe thead th {\n",
       "        text-align: right;\n",
       "    }\n",
       "</style>\n",
       "<table border=\"1\" class=\"dataframe\">\n",
       "  <thead>\n",
       "    <tr style=\"text-align: right;\">\n",
       "      <th></th>\n",
       "      <th>Cameras</th>\n",
       "      <th>Lat(1)</th>\n",
       "      <th>Long(1)</th>\n",
       "      <th>LOCATION_DETAILS</th>\n",
       "      <th>geometry</th>\n",
       "    </tr>\n",
       "  </thead>\n",
       "  <tbody>\n",
       "    <tr>\n",
       "      <th>0</th>\n",
       "      <td>1</td>\n",
       "      <td>-33.890177</td>\n",
       "      <td>151.127985</td>\n",
       "      <td>ASHFIELD HUME HIGHWAY</td>\n",
       "      <td>POINT (151.12799 -33.89018)</td>\n",
       "    </tr>\n",
       "    <tr>\n",
       "      <th>1</th>\n",
       "      <td>1</td>\n",
       "      <td>-33.835963</td>\n",
       "      <td>151.023621</td>\n",
       "      <td>AUBURN PARRAMATTA ROAD</td>\n",
       "      <td>POINT (151.02362 -33.83596)</td>\n",
       "    </tr>\n",
       "  </tbody>\n",
       "</table>\n",
       "</div>"
      ],
      "text/plain": [
       "   Cameras     Lat(1)     Long(1)        LOCATION_DETAILS  \\\n",
       "0        1 -33.890177  151.127985   ASHFIELD HUME HIGHWAY   \n",
       "1        1 -33.835963  151.023621  AUBURN PARRAMATTA ROAD   \n",
       "\n",
       "                      geometry  \n",
       "0  POINT (151.12799 -33.89018)  \n",
       "1  POINT (151.02362 -33.83596)  "
      ]
     },
     "execution_count": 128,
     "metadata": {},
     "output_type": "execute_result"
    }
   ],
   "source": [
    "gdf_cams = gpd.GeoDataFrame(df_cams, geometry=gpd.points_from_xy(df_cams[\"Long(1)\"], df_cams[\"Lat(1)\"]))\n",
    "gdf_cams.head(2)"
   ]
  },
  {
   "cell_type": "code",
   "execution_count": 129,
   "metadata": {},
   "outputs": [
    {
     "data": {
      "text/html": [
       "<div>\n",
       "<style scoped>\n",
       "    .dataframe tbody tr th:only-of-type {\n",
       "        vertical-align: middle;\n",
       "    }\n",
       "\n",
       "    .dataframe tbody tr th {\n",
       "        vertical-align: top;\n",
       "    }\n",
       "\n",
       "    .dataframe thead th {\n",
       "        text-align: right;\n",
       "    }\n",
       "</style>\n",
       "<table border=\"1\" class=\"dataframe\">\n",
       "  <thead>\n",
       "    <tr style=\"text-align: right;\">\n",
       "      <th></th>\n",
       "      <th>OFFENCE_FINYEAR</th>\n",
       "      <th>LEGISLATION</th>\n",
       "      <th>FACE_VALUE</th>\n",
       "      <th>CAMERA_IND</th>\n",
       "      <th>CAMERA_TYPE</th>\n",
       "      <th>LOCATION_DETAILS</th>\n",
       "      <th>TOTAL_NUMBER</th>\n",
       "      <th>TOTAL_VALUE</th>\n",
       "    </tr>\n",
       "  </thead>\n",
       "  <tbody>\n",
       "    <tr>\n",
       "      <th>0</th>\n",
       "      <td>2011-2012</td>\n",
       "      <td>ROAD RULES 2008</td>\n",
       "      <td>353</td>\n",
       "      <td>Y</td>\n",
       "      <td>Red Light / Speed Camera</td>\n",
       "      <td>VICTORIA ROAD ROZELLE EASTBOUND</td>\n",
       "      <td>46</td>\n",
       "      <td>16238</td>\n",
       "    </tr>\n",
       "    <tr>\n",
       "      <th>5</th>\n",
       "      <td>2011-2012</td>\n",
       "      <td>ROAD RULES 2008</td>\n",
       "      <td>93</td>\n",
       "      <td>Y</td>\n",
       "      <td>Fixed Digital Speed Camera</td>\n",
       "      <td>HUME HIGHWAY ASHFIELD (Z) WESTBOUND</td>\n",
       "      <td>9</td>\n",
       "      <td>837</td>\n",
       "    </tr>\n",
       "  </tbody>\n",
       "</table>\n",
       "</div>"
      ],
      "text/plain": [
       "  OFFENCE_FINYEAR      LEGISLATION  FACE_VALUE CAMERA_IND  \\\n",
       "0       2011-2012  ROAD RULES 2008         353          Y   \n",
       "5       2011-2012  ROAD RULES 2008          93          Y   \n",
       "\n",
       "                  CAMERA_TYPE                     LOCATION_DETAILS  \\\n",
       "0    Red Light / Speed Camera      VICTORIA ROAD ROZELLE EASTBOUND   \n",
       "5  Fixed Digital Speed Camera  HUME HIGHWAY ASHFIELD (Z) WESTBOUND   \n",
       "\n",
       "   TOTAL_NUMBER  TOTAL_VALUE  \n",
       "0            46        16238  \n",
       "5             9          837  "
      ]
     },
     "execution_count": 129,
     "metadata": {},
     "output_type": "execute_result"
    }
   ],
   "source": [
    "df_penaltyData.head(2)"
   ]
  },
  {
   "cell_type": "code",
   "execution_count": 135,
   "metadata": {},
   "outputs": [],
   "source": [
    "cams = list(gdf_cams[\"LOCATION_DETAILS\"])\n",
    "\n"
   ]
  }
 ],
 "metadata": {
  "kernelspec": {
   "display_name": "Python 3.10.4 64-bit",
   "language": "python",
   "name": "python3"
  },
  "language_info": {
   "codemirror_mode": {
    "name": "ipython",
    "version": 3
   },
   "file_extension": ".py",
   "mimetype": "text/x-python",
   "name": "python",
   "nbconvert_exporter": "python",
   "pygments_lexer": "ipython3",
   "version": "3.10.4"
  },
  "orig_nbformat": 4,
  "vscode": {
   "interpreter": {
    "hash": "6f5b53ea504ebfa04f8fb7433339a268f74c2ccc58003020fc3ce3105a10d9ba"
   }
  }
 },
 "nbformat": 4,
 "nbformat_minor": 2
}
