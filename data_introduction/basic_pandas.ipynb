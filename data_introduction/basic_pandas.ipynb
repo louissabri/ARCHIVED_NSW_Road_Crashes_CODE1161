{
 "cells": [
  {
   "cell_type": "markdown",
   "metadata": {
    "slideshow": {
     "slide_type": "slide"
    }
   },
   "source": [
    "# Pandas\n",
    "\n",
    "This notebook covers a _lot_, go through it carefully and _read_ the code. Then work on _understanding_ it. Then apply it to your data set. Then once you've done that, you'll probably _actually_ understand it.\n",
    "\n",
    "Messing about with the [NSW Penalty data](http://www.osr.nsw.gov.au/sites/default/files/file_manager/crashData_set_0.csv)"
   ]
  },
  {
   "cell_type": "markdown",
   "metadata": {
    "slideshow": {
     "slide_type": "slide"
    }
   },
   "source": [
    "`imports`, you've seen this before!"
   ]
  },
  {
   "cell_type": "code",
   "execution_count": 2,
   "metadata": {
    "slideshow": {
     "slide_type": "-"
    }
   },
   "outputs": [],
   "source": [
    "import matplotlib\n",
    "import matplotlib.pyplot as plt\n",
    "import numpy as np\n",
    "import pandas as pd\n",
    "import os\n",
    "from datetime import datetime\n"
   ]
  },
  {
   "cell_type": "markdown",
   "metadata": {
    "slideshow": {
     "slide_type": "fragment"
    }
   },
   "source": [
    "Some magic that tells jupyter to put graphs and things in the notebook instead of the default behaviour which is to save it as a file."
   ]
  },
  {
   "cell_type": "code",
   "execution_count": 4,
   "metadata": {
    "slideshow": {
     "slide_type": "-"
    }
   },
   "outputs": [],
   "source": [
    "%matplotlib inline"
   ]
  },
  {
   "cell_type": "markdown",
   "metadata": {},
   "source": [
    "Set the size of the plots that will come out when we ask for them. Annoyingly, these are in inches. Whatever an \"inch\" is"
   ]
  },
  {
   "cell_type": "code",
   "execution_count": 5,
   "metadata": {},
   "outputs": [],
   "source": [
    "plt.rcParams[\"figure.figsize\"] = (10, 5)\n"
   ]
  },
  {
   "cell_type": "code",
   "execution_count": 6,
   "metadata": {
    "slideshow": {
     "slide_type": "skip"
    }
   },
   "outputs": [],
   "source": [
    "saved_style_state = matplotlib.rcParams.copy()  # give us a style state to go back to\n"
   ]
  },
  {
   "cell_type": "markdown",
   "metadata": {
    "slideshow": {
     "slide_type": "slide"
    }
   },
   "source": [
    "Let's check to see if we've already downloaded the data. It's a big file, so we don't want to do it every time we run the code. Even just loading from file takes a few seconds!\n",
    "\n",
    "Pandas is pretty smart, it can get data from the internet just as easily as from the file system, it just takes a bit longer.\n"
   ]
  },
  {
   "cell_type": "code",
   "execution_count": 3,
   "metadata": {
    "slideshow": {
     "slide_type": "fragment"
    }
   },
   "outputs": [
    {
     "name": "stdout",
     "output_type": "stream",
     "text": [
      "loading from file\n",
      "done\n"
     ]
    }
   ],
   "source": [
    "if os.path.isfile(\"../DATA/NSW_Road_Crash_Data_2016-2020.csv\"):\n",
    "    filepath = \"../DATA/NSW_Road_Crash_Data_2016-2020.csv\"\n",
    "    print(\"loading from file\")\n",
    "else:\n",
    "    filepath = \"https://opendata.transport.nsw.gov.au/system/files/resources/Mobile%20Speed%20Camera%20Locations%20-%20January%202022.csv\"\n",
    "    print(\"loading from the internet\")\n",
    "\n",
    "crashData = pd.read_csv(filepath)\n",
    "print(\"done\")\n"
   ]
  },
  {
   "cell_type": "code",
   "execution_count": 15,
   "metadata": {
    "slideshow": {
     "slide_type": "slide"
    }
   },
   "outputs": [
    {
     "data": {
      "text/html": [
       "<div>\n",
       "<style scoped>\n",
       "    .dataframe tbody tr th:only-of-type {\n",
       "        vertical-align: middle;\n",
       "    }\n",
       "\n",
       "    .dataframe tbody tr th {\n",
       "        vertical-align: top;\n",
       "    }\n",
       "\n",
       "    .dataframe thead th {\n",
       "        text-align: right;\n",
       "    }\n",
       "</style>\n",
       "<table border=\"1\" class=\"dataframe\">\n",
       "  <thead>\n",
       "    <tr style=\"text-align: right;\">\n",
       "      <th></th>\n",
       "      <th>Crash ID</th>\n",
       "      <th>Degree of crash</th>\n",
       "      <th>Degree of crash - detailed</th>\n",
       "      <th>Reporting year</th>\n",
       "      <th>Year of crash</th>\n",
       "      <th>Month of crash</th>\n",
       "      <th>Day of week of crash</th>\n",
       "      <th>Time of crash - Two-hour intervals</th>\n",
       "      <th>Street of crash</th>\n",
       "      <th>Street type</th>\n",
       "      <th>...</th>\n",
       "      <th>DCA - description</th>\n",
       "      <th>DCA supplement</th>\n",
       "      <th>First impact type</th>\n",
       "      <th>Key TU type</th>\n",
       "      <th>Other TU type</th>\n",
       "      <th>No. of traffic units involved</th>\n",
       "      <th>No. killed</th>\n",
       "      <th>No. seriously injured</th>\n",
       "      <th>No. moderately injured</th>\n",
       "      <th>No. minor-other injured</th>\n",
       "    </tr>\n",
       "  </thead>\n",
       "  <tbody>\n",
       "    <tr>\n",
       "      <th>0</th>\n",
       "      <td>1088679</td>\n",
       "      <td>Fatal</td>\n",
       "      <td>Fatal</td>\n",
       "      <td>2016</td>\n",
       "      <td>2016</td>\n",
       "      <td>January</td>\n",
       "      <td>Saturday</td>\n",
       "      <td>00:01 - 01:59</td>\n",
       "      <td>BALDRY-PEAK HILL</td>\n",
       "      <td>RD</td>\n",
       "      <td>...</td>\n",
       "      <td>Left off cway into object</td>\n",
       "      <td>NaN</td>\n",
       "      <td>Vehicle - Object</td>\n",
       "      <td>Light truck</td>\n",
       "      <td>NaN</td>\n",
       "      <td>1</td>\n",
       "      <td>1</td>\n",
       "      <td>2</td>\n",
       "      <td>1</td>\n",
       "      <td>0</td>\n",
       "    </tr>\n",
       "    <tr>\n",
       "      <th>1</th>\n",
       "      <td>1088682</td>\n",
       "      <td>Fatal</td>\n",
       "      <td>Fatal</td>\n",
       "      <td>2016</td>\n",
       "      <td>2016</td>\n",
       "      <td>January</td>\n",
       "      <td>Monday</td>\n",
       "      <td>20:00 - 21:59</td>\n",
       "      <td>PRINCES</td>\n",
       "      <td>HWY</td>\n",
       "      <td>...</td>\n",
       "      <td>Off right bend into obj</td>\n",
       "      <td>Left</td>\n",
       "      <td>Vehicle - Object</td>\n",
       "      <td>Light truck</td>\n",
       "      <td>NaN</td>\n",
       "      <td>1</td>\n",
       "      <td>1</td>\n",
       "      <td>0</td>\n",
       "      <td>0</td>\n",
       "      <td>0</td>\n",
       "    </tr>\n",
       "    <tr>\n",
       "      <th>2</th>\n",
       "      <td>1088829</td>\n",
       "      <td>Non-casualty (towaway)</td>\n",
       "      <td>Non-casualty (towaway)</td>\n",
       "      <td>2016</td>\n",
       "      <td>2016</td>\n",
       "      <td>January</td>\n",
       "      <td>Friday</td>\n",
       "      <td>12:00 - 13:59</td>\n",
       "      <td>PRINCES</td>\n",
       "      <td>HWY</td>\n",
       "      <td>...</td>\n",
       "      <td>Same - other</td>\n",
       "      <td>NaN</td>\n",
       "      <td>Other angle</td>\n",
       "      <td>Light truck</td>\n",
       "      <td>Car (sedan/hatch)</td>\n",
       "      <td>2</td>\n",
       "      <td>0</td>\n",
       "      <td>0</td>\n",
       "      <td>0</td>\n",
       "      <td>0</td>\n",
       "    </tr>\n",
       "    <tr>\n",
       "      <th>3</th>\n",
       "      <td>1088867</td>\n",
       "      <td>Non-casualty (towaway)</td>\n",
       "      <td>Non-casualty (towaway)</td>\n",
       "      <td>2016</td>\n",
       "      <td>2016</td>\n",
       "      <td>January</td>\n",
       "      <td>Friday</td>\n",
       "      <td>12:00 - 13:59</td>\n",
       "      <td>PALMER</td>\n",
       "      <td>ST</td>\n",
       "      <td>...</td>\n",
       "      <td>Opp - U-turn</td>\n",
       "      <td>NaN</td>\n",
       "      <td>Other angle</td>\n",
       "      <td>Station wagon</td>\n",
       "      <td>Utility</td>\n",
       "      <td>2</td>\n",
       "      <td>0</td>\n",
       "      <td>0</td>\n",
       "      <td>0</td>\n",
       "      <td>0</td>\n",
       "    </tr>\n",
       "    <tr>\n",
       "      <th>4</th>\n",
       "      <td>1088880</td>\n",
       "      <td>Non-casualty (towaway)</td>\n",
       "      <td>Non-casualty (towaway)</td>\n",
       "      <td>2016</td>\n",
       "      <td>2016</td>\n",
       "      <td>January</td>\n",
       "      <td>Friday</td>\n",
       "      <td>16:00 - 17:59</td>\n",
       "      <td>COLLEGE</td>\n",
       "      <td>ST</td>\n",
       "      <td>...</td>\n",
       "      <td>Same - Rear end</td>\n",
       "      <td>NaN</td>\n",
       "      <td>Rear end</td>\n",
       "      <td>Light truck</td>\n",
       "      <td>Car (sedan/hatch)</td>\n",
       "      <td>3</td>\n",
       "      <td>0</td>\n",
       "      <td>0</td>\n",
       "      <td>0</td>\n",
       "      <td>0</td>\n",
       "    </tr>\n",
       "  </tbody>\n",
       "</table>\n",
       "<p>5 rows × 50 columns</p>\n",
       "</div>"
      ],
      "text/plain": [
       "   Crash ID         Degree of crash Degree of crash - detailed  \\\n",
       "0   1088679                   Fatal                      Fatal   \n",
       "1   1088682                   Fatal                      Fatal   \n",
       "2   1088829  Non-casualty (towaway)     Non-casualty (towaway)   \n",
       "3   1088867  Non-casualty (towaway)     Non-casualty (towaway)   \n",
       "4   1088880  Non-casualty (towaway)     Non-casualty (towaway)   \n",
       "\n",
       "   Reporting year  Year of crash Month of crash Day of week of crash  \\\n",
       "0            2016           2016        January             Saturday   \n",
       "1            2016           2016        January               Monday   \n",
       "2            2016           2016        January               Friday   \n",
       "3            2016           2016        January               Friday   \n",
       "4            2016           2016        January               Friday   \n",
       "\n",
       "  Time of crash - Two-hour intervals   Street of crash Street type  ...  \\\n",
       "0                      00:01 - 01:59  BALDRY-PEAK HILL          RD  ...   \n",
       "1                      20:00 - 21:59           PRINCES         HWY  ...   \n",
       "2                      12:00 - 13:59           PRINCES         HWY  ...   \n",
       "3                      12:00 - 13:59            PALMER          ST  ...   \n",
       "4                      16:00 - 17:59           COLLEGE          ST  ...   \n",
       "\n",
       "           DCA - description DCA supplement First impact type    Key TU type  \\\n",
       "0  Left off cway into object            NaN  Vehicle - Object    Light truck   \n",
       "1    Off right bend into obj           Left  Vehicle - Object    Light truck   \n",
       "2               Same - other            NaN       Other angle    Light truck   \n",
       "3               Opp - U-turn            NaN       Other angle  Station wagon   \n",
       "4            Same - Rear end            NaN          Rear end    Light truck   \n",
       "\n",
       "       Other TU type  No. of traffic units involved No. killed  \\\n",
       "0                NaN                              1          1   \n",
       "1                NaN                              1          1   \n",
       "2  Car (sedan/hatch)                              2          0   \n",
       "3            Utility                              2          0   \n",
       "4  Car (sedan/hatch)                              3          0   \n",
       "\n",
       "  No. seriously injured No. moderately injured  No. minor-other injured  \n",
       "0                     2                      1                        0  \n",
       "1                     0                      0                        0  \n",
       "2                     0                      0                        0  \n",
       "3                     0                      0                        0  \n",
       "4                     0                      0                        0  \n",
       "\n",
       "[5 rows x 50 columns]"
      ]
     },
     "execution_count": 15,
     "metadata": {},
     "output_type": "execute_result"
    }
   ],
   "source": [
    "crashData.head(5)\n"
   ]
  },
  {
   "cell_type": "markdown",
   "metadata": {},
   "source": [
    "`dataframe.head()` gives the top 5 rows, if it was `dataframe.head(3)` it would give the top 3 rows. \n",
    "\n",
    "`dataframe.sample(5)` gives you 5 random rows from your dataframe. It's a good way to avoid the trap where you confuse yourself the first few rows are odd."
   ]
  },
  {
   "cell_type": "code",
   "execution_count": 17,
   "metadata": {},
   "outputs": [
    {
     "data": {
      "text/html": [
       "<div>\n",
       "<style scoped>\n",
       "    .dataframe tbody tr th:only-of-type {\n",
       "        vertical-align: middle;\n",
       "    }\n",
       "\n",
       "    .dataframe tbody tr th {\n",
       "        vertical-align: top;\n",
       "    }\n",
       "\n",
       "    .dataframe thead th {\n",
       "        text-align: right;\n",
       "    }\n",
       "</style>\n",
       "<table border=\"1\" class=\"dataframe\">\n",
       "  <thead>\n",
       "    <tr style=\"text-align: right;\">\n",
       "      <th></th>\n",
       "      <th>Crash ID</th>\n",
       "      <th>Degree of crash</th>\n",
       "      <th>Degree of crash - detailed</th>\n",
       "      <th>Reporting year</th>\n",
       "      <th>Year of crash</th>\n",
       "      <th>Month of crash</th>\n",
       "      <th>Day of week of crash</th>\n",
       "      <th>Time of crash - Two-hour intervals</th>\n",
       "      <th>Street of crash</th>\n",
       "      <th>Street type</th>\n",
       "      <th>...</th>\n",
       "      <th>DCA - description</th>\n",
       "      <th>DCA supplement</th>\n",
       "      <th>First impact type</th>\n",
       "      <th>Key TU type</th>\n",
       "      <th>Other TU type</th>\n",
       "      <th>No. of traffic units involved</th>\n",
       "      <th>No. killed</th>\n",
       "      <th>No. seriously injured</th>\n",
       "      <th>No. moderately injured</th>\n",
       "      <th>No. minor-other injured</th>\n",
       "    </tr>\n",
       "  </thead>\n",
       "  <tbody>\n",
       "    <tr>\n",
       "      <th>97976</th>\n",
       "      <td>1234297</td>\n",
       "      <td>Injury</td>\n",
       "      <td>Moderate Injury</td>\n",
       "      <td>2020</td>\n",
       "      <td>2020</td>\n",
       "      <td>June</td>\n",
       "      <td>Thursday</td>\n",
       "      <td>16:00 - 17:59</td>\n",
       "      <td>VICTORIA</td>\n",
       "      <td>RD</td>\n",
       "      <td>...</td>\n",
       "      <td>Same - Rear end</td>\n",
       "      <td>NaN</td>\n",
       "      <td>Rear end</td>\n",
       "      <td>4 wheel drive</td>\n",
       "      <td>Car (sedan/hatch)</td>\n",
       "      <td>2</td>\n",
       "      <td>0</td>\n",
       "      <td>0</td>\n",
       "      <td>1</td>\n",
       "      <td>0</td>\n",
       "    </tr>\n",
       "    <tr>\n",
       "      <th>10682</th>\n",
       "      <td>1105913</td>\n",
       "      <td>Injury</td>\n",
       "      <td>Serious Injury</td>\n",
       "      <td>2016</td>\n",
       "      <td>2016</td>\n",
       "      <td>January</td>\n",
       "      <td>Wednesday</td>\n",
       "      <td>08:00 - 09:59</td>\n",
       "      <td>PACIFIC</td>\n",
       "      <td>HWY</td>\n",
       "      <td>...</td>\n",
       "      <td>Opp - Head on</td>\n",
       "      <td>NaN</td>\n",
       "      <td>Head-on</td>\n",
       "      <td>Utility</td>\n",
       "      <td>Car (sedan/hatch)</td>\n",
       "      <td>3</td>\n",
       "      <td>0</td>\n",
       "      <td>1</td>\n",
       "      <td>2</td>\n",
       "      <td>0</td>\n",
       "    </tr>\n",
       "    <tr>\n",
       "      <th>60603</th>\n",
       "      <td>1176906</td>\n",
       "      <td>Injury</td>\n",
       "      <td>Serious Injury</td>\n",
       "      <td>2018</td>\n",
       "      <td>2018</td>\n",
       "      <td>May</td>\n",
       "      <td>Wednesday</td>\n",
       "      <td>16:00 - 17:59</td>\n",
       "      <td>NEWCASTLE</td>\n",
       "      <td>EXP</td>\n",
       "      <td>...</td>\n",
       "      <td>Same - Rear end</td>\n",
       "      <td>NaN</td>\n",
       "      <td>Rear end</td>\n",
       "      <td>Light truck utility(from 2018)</td>\n",
       "      <td>Car (sedan/hatch)</td>\n",
       "      <td>7</td>\n",
       "      <td>0</td>\n",
       "      <td>2</td>\n",
       "      <td>0</td>\n",
       "      <td>0</td>\n",
       "    </tr>\n",
       "    <tr>\n",
       "      <th>97938</th>\n",
       "      <td>1234241</td>\n",
       "      <td>Injury</td>\n",
       "      <td>Minor/Other Injury</td>\n",
       "      <td>2020</td>\n",
       "      <td>2020</td>\n",
       "      <td>June</td>\n",
       "      <td>Monday</td>\n",
       "      <td>08:00 - 09:59</td>\n",
       "      <td>CENTENARY</td>\n",
       "      <td>DR</td>\n",
       "      <td>...</td>\n",
       "      <td>Same - other</td>\n",
       "      <td>NaN</td>\n",
       "      <td>Other angle</td>\n",
       "      <td>Car (sedan/hatch)</td>\n",
       "      <td>Car (sedan/hatch)</td>\n",
       "      <td>2</td>\n",
       "      <td>0</td>\n",
       "      <td>0</td>\n",
       "      <td>0</td>\n",
       "      <td>1</td>\n",
       "    </tr>\n",
       "    <tr>\n",
       "      <th>40104</th>\n",
       "      <td>1147281</td>\n",
       "      <td>Injury</td>\n",
       "      <td>Moderate Injury</td>\n",
       "      <td>2017</td>\n",
       "      <td>2017</td>\n",
       "      <td>August</td>\n",
       "      <td>Monday</td>\n",
       "      <td>18:00 - 19:59</td>\n",
       "      <td>MENANGLE</td>\n",
       "      <td>RD</td>\n",
       "      <td>...</td>\n",
       "      <td>On path - Hit animal</td>\n",
       "      <td>NaN</td>\n",
       "      <td>Vehicle - Animal</td>\n",
       "      <td>Car (sedan/hatch)</td>\n",
       "      <td>NaN</td>\n",
       "      <td>1</td>\n",
       "      <td>0</td>\n",
       "      <td>0</td>\n",
       "      <td>1</td>\n",
       "      <td>0</td>\n",
       "    </tr>\n",
       "  </tbody>\n",
       "</table>\n",
       "<p>5 rows × 50 columns</p>\n",
       "</div>"
      ],
      "text/plain": [
       "       Crash ID Degree of crash Degree of crash - detailed  Reporting year  \\\n",
       "97976   1234297          Injury            Moderate Injury            2020   \n",
       "10682   1105913          Injury             Serious Injury            2016   \n",
       "60603   1176906          Injury             Serious Injury            2018   \n",
       "97938   1234241          Injury         Minor/Other Injury            2020   \n",
       "40104   1147281          Injury            Moderate Injury            2017   \n",
       "\n",
       "       Year of crash Month of crash Day of week of crash  \\\n",
       "97976           2020           June             Thursday   \n",
       "10682           2016        January            Wednesday   \n",
       "60603           2018            May            Wednesday   \n",
       "97938           2020           June               Monday   \n",
       "40104           2017         August               Monday   \n",
       "\n",
       "      Time of crash - Two-hour intervals Street of crash Street type  ...  \\\n",
       "97976                      16:00 - 17:59        VICTORIA          RD  ...   \n",
       "10682                      08:00 - 09:59         PACIFIC         HWY  ...   \n",
       "60603                      16:00 - 17:59       NEWCASTLE         EXP  ...   \n",
       "97938                      08:00 - 09:59       CENTENARY          DR  ...   \n",
       "40104                      18:00 - 19:59        MENANGLE          RD  ...   \n",
       "\n",
       "          DCA - description DCA supplement First impact type  \\\n",
       "97976       Same - Rear end            NaN          Rear end   \n",
       "10682         Opp - Head on            NaN           Head-on   \n",
       "60603       Same - Rear end            NaN          Rear end   \n",
       "97938          Same - other            NaN       Other angle   \n",
       "40104  On path - Hit animal            NaN  Vehicle - Animal   \n",
       "\n",
       "                          Key TU type      Other TU type  \\\n",
       "97976                   4 wheel drive  Car (sedan/hatch)   \n",
       "10682                         Utility  Car (sedan/hatch)   \n",
       "60603  Light truck utility(from 2018)  Car (sedan/hatch)   \n",
       "97938               Car (sedan/hatch)  Car (sedan/hatch)   \n",
       "40104               Car (sedan/hatch)                NaN   \n",
       "\n",
       "       No. of traffic units involved No. killed No. seriously injured  \\\n",
       "97976                              2          0                     0   \n",
       "10682                              3          0                     1   \n",
       "60603                              7          0                     2   \n",
       "97938                              2          0                     0   \n",
       "40104                              1          0                     0   \n",
       "\n",
       "      No. moderately injured  No. minor-other injured  \n",
       "97976                      1                        0  \n",
       "10682                      2                        0  \n",
       "60603                      0                        0  \n",
       "97938                      0                        1  \n",
       "40104                      1                        0  \n",
       "\n",
       "[5 rows x 50 columns]"
      ]
     },
     "execution_count": 17,
     "metadata": {},
     "output_type": "execute_result"
    }
   ],
   "source": [
    "crashData.sample(5)\n"
   ]
  },
  {
   "cell_type": "markdown",
   "metadata": {
    "slideshow": {
     "slide_type": "slide"
    }
   },
   "source": [
    "We can also get the list of columns out of the data frame"
   ]
  },
  {
   "cell_type": "code",
   "execution_count": 18,
   "metadata": {
    "slideshow": {
     "slide_type": "fragment"
    }
   },
   "outputs": [
    {
     "data": {
      "text/plain": [
       "Index(['Crash ID', 'Degree of crash', 'Degree of crash - detailed',\n",
       "       'Reporting year', 'Year of crash', 'Month of crash',\n",
       "       'Day of week of crash', 'Time of crash - Two-hour intervals',\n",
       "       'Street of crash', 'Street type', 'Distance (from identifying feature)',\n",
       "       'Direction (from identifying feature)', 'Identifying feature',\n",
       "       'Identifying feature type', 'Town', 'Route no.', 'School zone location',\n",
       "       'School zone active', 'Type of location', 'Latitude', 'Longitude',\n",
       "       'LGA', 'Urbanisation', 'Conurbation 1', 'Alignment',\n",
       "       'Primary permanent feature', 'Primary temporary feature',\n",
       "       'Primary hazardous feature', 'Street lighting', 'Road surface',\n",
       "       'Surface condition', 'Weather', 'Natural lighting', 'Signals operation',\n",
       "       'Other traffic control', 'Speed limit', 'Road classification (admin)',\n",
       "       'RUM - code', 'RUM - description', 'DCA - code', 'DCA - description',\n",
       "       'DCA supplement', 'First impact type', 'Key TU type', 'Other TU type',\n",
       "       'No. of traffic units involved', 'No. killed', 'No. seriously injured',\n",
       "       'No. moderately injured', 'No. minor-other injured'],\n",
       "      dtype='object')"
      ]
     },
     "execution_count": 18,
     "metadata": {},
     "output_type": "execute_result"
    }
   ],
   "source": [
    "crashData.columns"
   ]
  },
  {
   "cell_type": "markdown",
   "metadata": {},
   "source": [
    "This is useful for you when you are documenting your dataset, you can make each column a heading, and then describe that column's characteristics."
   ]
  },
  {
   "cell_type": "markdown",
   "metadata": {
    "slideshow": {
     "slide_type": "slide"
    }
   },
   "source": [
    "You can't index a row directly, you need to use the `iloc` property. That means the _interger location_, so the zeroeth row would be `df.iloc[0]`. \n",
    "\n",
    "This gives us the row as a _Series_.\n",
    "\n",
    "↓"
   ]
  },
  {
   "cell_type": "code",
   "execution_count": 19,
   "metadata": {
    "slideshow": {
     "slide_type": "subslide"
    }
   },
   "outputs": [
    {
     "data": {
      "text/plain": [
       "Crash ID                                                  1088679\n",
       "Degree of crash                                             Fatal\n",
       "Degree of crash - detailed                                  Fatal\n",
       "Reporting year                                               2016\n",
       "Year of crash                                                2016\n",
       "Month of crash                                            January\n",
       "Day of week of crash                                     Saturday\n",
       "Time of crash - Two-hour intervals                  00:01 - 01:59\n",
       "Street of crash                                  BALDRY-PEAK HILL\n",
       "Street type                                                    RD\n",
       "Distance (from identifying feature)                           660\n",
       "Direction (from identifying feature)                         East\n",
       "Identifying feature                                        KADINA\n",
       "Identifying feature type                                       RD\n",
       "Town                                                    PEAK HILL\n",
       "Route no.                                                     NaN\n",
       "School zone location                                           No\n",
       "School zone active                              Not a school zone\n",
       "Type of location                                  2-way undivided\n",
       "Latitude                                               -32.830075\n",
       "Longitude                                              148.293512\n",
       "LGA                                                        Parkes\n",
       "Urbanisation                                    Country non-urban\n",
       "Conurbation 1                                 Rest of NSW - Rural\n",
       "Alignment                                                Straight\n",
       "Primary permanent feature                                     NaN\n",
       "Primary temporary feature                                     NaN\n",
       "Primary hazardous feature                                     NaN\n",
       "Street lighting                                               Nil\n",
       "Road surface                                             Unsealed\n",
       "Surface condition                                             Dry\n",
       "Weather                                                      Fine\n",
       "Natural lighting                                         Darkness\n",
       "Signals operation                                             Nil\n",
       "Other traffic control                         No traffic controls\n",
       "Speed limit                                              100 km/h\n",
       "Road classification (admin)                                 Local\n",
       "RUM - code                                                     71\n",
       "RUM - description                              Off rd left => obj\n",
       "DCA - code                                                    703\n",
       "DCA - description                       Left off cway into object\n",
       "DCA supplement                                                NaN\n",
       "First impact type                                Vehicle - Object\n",
       "Key TU type                                           Light truck\n",
       "Other TU type                                                 NaN\n",
       "No. of traffic units involved                                   1\n",
       "No. killed                                                      1\n",
       "No. seriously injured                                           2\n",
       "No. moderately injured                                          1\n",
       "No. minor-other injured                                         0\n",
       "Name: 0, dtype: object"
      ]
     },
     "execution_count": 19,
     "metadata": {},
     "output_type": "execute_result"
    }
   ],
   "source": [
    "row_one = crashData.iloc[0]\n",
    "row_one\n"
   ]
  },
  {
   "cell_type": "markdown",
   "metadata": {
    "slideshow": {
     "slide_type": "subslide"
    }
   },
   "source": [
    "Series objects are _very_ similar to dictionaries. They have more properties though."
   ]
  },
  {
   "cell_type": "code",
   "execution_count": 27,
   "metadata": {
    "slideshow": {
     "slide_type": "-"
    }
   },
   "outputs": [
    {
     "name": "stdout",
     "output_type": "stream",
     "text": [
      "-32.830075 148.293512\n",
      "-35.800954 150.132066\n",
      "-34.031609 151.067157\n",
      "-33.847025 150.967695\n",
      "-33.873753 151.212595\n"
     ]
    }
   ],
   "source": [
    "df_len = len(crashData)\n",
    "\n",
    "for i in range(5):\n",
    "    currentRow = crashData.iloc[i]\n",
    "    print(currentRow[\"Latitude\"], currentRow[\"Longitude\"])\n"
   ]
  },
  {
   "cell_type": "markdown",
   "metadata": {},
   "source": [
    "You can access them like a dictionary ☝ or you can access them like a property 👇. \n",
    "\n",
    "I like the `my_series.key_name` best, but it won't work if there are spaces in your column title. That can happen if you are getting the data from somewhere else (i.e. you didn't make it)."
   ]
  },
  {
   "cell_type": "code",
   "execution_count": 28,
   "metadata": {},
   "outputs": [
    {
     "data": {
      "text/plain": [
       "'Fine'"
      ]
     },
     "execution_count": 28,
     "metadata": {},
     "output_type": "execute_result"
    }
   ],
   "source": [
    "row_one.Weather"
   ]
  },
  {
   "cell_type": "markdown",
   "metadata": {
    "slideshow": {
     "slide_type": "slide"
    }
   },
   "source": [
    "Doing the same thing on a dataframe gives us the whole column"
   ]
  },
  {
   "cell_type": "code",
   "execution_count": 29,
   "metadata": {
    "slideshow": {
     "slide_type": "-"
    }
   },
   "outputs": [],
   "source": [
    "speedLimit = crashData[\"Speed limit\"]"
   ]
  },
  {
   "cell_type": "code",
   "execution_count": 35,
   "metadata": {
    "slideshow": {
     "slide_type": "slide"
    }
   },
   "outputs": [
    {
     "name": "stdout",
     "output_type": "stream",
     "text": [
      "[14792, 15686, 16059, 16260, 17705, 16092, 13437]\n"
     ]
    }
   ],
   "source": [
    "mon = 0\n",
    "tue = 0\n",
    "wed = 0\n",
    "thu = 0\n",
    "fri = 0\n",
    "sat = 0\n",
    "sun = 0\n",
    "\n",
    "for i in range(df_len):\n",
    "    workingRow = crashData.iloc[i]\n",
    "    day_of_week = workingRow[\"Day of week of crash\"]\n",
    "    \n",
    "    if day_of_week == \"Monday\":\n",
    "        mon += 1\n",
    "    elif day_of_week == \"Tuesday\":\n",
    "        tue += 1\n",
    "    elif day_of_week == \"Wednesday\":\n",
    "        wed += 1\n",
    "    elif day_of_week == \"Thursday\":\n",
    "        thu += 1\n",
    "    elif day_of_week == \"Friday\":\n",
    "        fri += 1\n",
    "    elif day_of_week == \"Saturday\":\n",
    "        sat += 1\n",
    "    elif day_of_week == \"Sunday\":\n",
    "        sun += 1\n",
    "    \n",
    "day_of_week_of_crash = [mon, tue, wed, thu, fri, sat, sun]\n",
    "\n",
    "print(day_of_week_of_crash)"
   ]
  },
  {
   "cell_type": "markdown",
   "metadata": {
    "slideshow": {
     "slide_type": "fragment"
    }
   },
   "source": [
    "If we do a simple `plot` on this column we get a pretty dense, but useless graph. It much better one would be a histogram."
   ]
  },
  {
   "cell_type": "code",
   "execution_count": 40,
   "metadata": {
    "slideshow": {
     "slide_type": "slide"
    }
   },
   "outputs": [
    {
     "data": {
      "text/plain": [
       "[<matplotlib.lines.Line2D at 0x1ea9b383e80>]"
      ]
     },
     "execution_count": 40,
     "metadata": {},
     "output_type": "execute_result"
    },
    {
     "data": {
      "image/png": "[encoded data removed]",
      "text/plain": [
       "<Figure size 720x360 with 1 Axes>"
      ]
     },
     "metadata": {
      "needs_background": "light"
     },
     "output_type": "display_data"
    }
   ],
   "source": [
    "plt.plot(day_of_week_of_crash)"
   ]
  },
  {
   "cell_type": "markdown",
   "metadata": {
    "slideshow": {
     "slide_type": "fragment"
    }
   },
   "source": [
    "The problem we have now is that almost _all_ fines are less than $2000, but there's a very long tail that fills up the right of the graph."
   ]
  },
  {
   "cell_type": "markdown",
   "metadata": {
    "slideshow": {
     "slide_type": "slide"
    }
   },
   "source": [
    "Let's exclude all the values above $3000, and see what it looks like.\n",
    "\n",
    "We can do that with a nice feature of pandas, _boolean indexing_:"
   ]
  },
  {
   "cell_type": "code",
   "execution_count": null,
   "metadata": {
    "slideshow": {
     "slide_type": "slide"
    }
   },
   "outputs": [],
   "source": [
    "crashData.FACE_VALUE[crashData.FACE_VALUE < 3000].hist()\n"
   ]
  },
  {
   "cell_type": "markdown",
   "metadata": {
    "slideshow": {
     "slide_type": "slide"
    }
   },
   "source": [
    "That's pretty crazy/powerful, so let's see that happen a bit more clearly.\n",
    "\n",
    "We'll make our own series and call it  `some_numbers`\n",
    "\n",
    "Let's give it the values 0-99 "
   ]
  },
  {
   "cell_type": "code",
   "execution_count": 6,
   "metadata": {
    "slideshow": {
     "slide_type": "slide"
    }
   },
   "outputs": [
    {
     "data": {
      "text/plain": [
       "0    0\n",
       "1    1\n",
       "2    2\n",
       "3    3\n",
       "4    4\n",
       "dtype: int64"
      ]
     },
     "execution_count": 6,
     "metadata": {},
     "output_type": "execute_result"
    }
   ],
   "source": [
    "# Note the capital S, I have no idea why they did that!\n",
    "# but if you get an `AttributeError: 'module' object has no attribute 'series'` error...\n",
    "#                 v\n",
    "some_numbers = pd.Series(range(100))\n",
    "some_numbers.head()\n"
   ]
  },
  {
   "cell_type": "markdown",
   "metadata": {
    "slideshow": {
     "slide_type": "slide"
    }
   },
   "source": [
    "We can use boolean indexing to get just the values that are less than 8"
   ]
  },
  {
   "cell_type": "code",
   "execution_count": 7,
   "metadata": {
    "slideshow": {
     "slide_type": "-"
    }
   },
   "outputs": [
    {
     "data": {
      "text/plain": [
       "0    0\n",
       "1    1\n",
       "2    2\n",
       "3    3\n",
       "4    4\n",
       "5    5\n",
       "6    6\n",
       "7    7\n",
       "dtype: int64"
      ]
     },
     "execution_count": 7,
     "metadata": {},
     "output_type": "execute_result"
    }
   ],
   "source": [
    "some_numbers[some_numbers < 8]"
   ]
  },
  {
   "cell_type": "markdown",
   "metadata": {
    "slideshow": {
     "slide_type": "slide"
    }
   },
   "source": [
    "Or we can be fancy and get the numbers that are less than 4 _or_ more than 97:"
   ]
  },
  {
   "cell_type": "code",
   "execution_count": 8,
   "metadata": {
    "slideshow": {
     "slide_type": "-"
    }
   },
   "outputs": [
    {
     "data": {
      "text/plain": [
       "0      0\n",
       "1      1\n",
       "2      2\n",
       "3      3\n",
       "97    97\n",
       "98    98\n",
       "99    99\n",
       "dtype: int64"
      ]
     },
     "execution_count": 8,
     "metadata": {},
     "output_type": "execute_result"
    }
   ],
   "source": [
    "some_numbers[(some_numbers < 4) | (some_numbers >= 97)]\n",
    "# this needs the round brackets, not really sure why.\n"
   ]
  },
  {
   "cell_type": "markdown",
   "metadata": {
    "slideshow": {
     "slide_type": "slide"
    }
   },
   "source": [
    "We can be _really fancy_ too!  Allow me to introduce the:\n",
    "\n",
    "# 🎺 List comprehension 🎺\n",
    "\n",
    "This needs to resolve to a list of booleans that matches the list of inputs. It's filtering only for values that are True.\n",
    "\n",
    "If we use a list comprehension then we can do almost anything we like!"
   ]
  },
  {
   "cell_type": "code",
   "execution_count": 9,
   "metadata": {
    "slideshow": {
     "slide_type": "slide"
    }
   },
   "outputs": [
    {
     "name": "stdout",
     "output_type": "stream",
     "text": [
      "pattern: [False, False, False, False, False, False, False, True, True, True, False, False, True, False, False, False, True, False, False, True, False, False, True, False, False, False, False, False, False, False, False, False, True, True, True, True, True, True, False, False, False]\n"
     ]
    },
    {
     "data": {
      "text/plain": [
       "7                   Chicken\n",
       "8                Guinea pig\n",
       "9                    Donkey\n",
       "12        Western honey bee\n",
       "16                   pigeon\n",
       "19           Bactrian camel\n",
       "22               guineafowl\n",
       "32                   canary\n",
       "33            Society finch\n",
       "34              Fancy mouse\n",
       "35    Siamese fighting fish\n",
       "36    Fancy rat and Lab rat\n",
       "37                     mink\n",
       "dtype: object"
      ]
     },
     "execution_count": 9,
     "metadata": {},
     "output_type": "execute_result"
    }
   ],
   "source": [
    "pets = [\"Dog\", \"Goat\", \"pig\", \"Sheep\", \"Cattle\", \"Zebu\", \"Cat\", \"Chicken\", \"Guinea pig\",             \n",
    "        \"Donkey\", \"duck\", \"Water buffalo\", \"Western honey bee\", \"dromedary camel\", \"Horse\", \n",
    "        \"silkmoth\", \"pigeon\", \"goose\", \"Yak\", \"Bactrian camel\", \"Llama\", \"Alpaca\",   \n",
    "        \"guineafowl\", \"Ferret\", \"muscovy duck\", \"Barbary dove\", \"Bali cattle\", \"Gayal\",\n",
    "        \"turkey\", \"Goldfish\", \"rabbit\", \"Koi\", \"canary\", \"Society finch\", \"Fancy mouse\",\n",
    "        \"Siamese fighting fish\", \"Fancy rat and Lab rat\", \"mink\", \"red fox\", \"hedgehog\",\n",
    "        \"Guppy\"]\n",
    "\n",
    "pets_series = pd.Series(pets)\n",
    "pattern_of_bools = [(\"n\" in pet_name) for pet_name in pets_series]\n",
    "print(\"pattern:\",pattern_of_bools)\n",
    "\n",
    "pets_series[pattern_of_bools]"
   ]
  },
  {
   "cell_type": "markdown",
   "metadata": {
    "slideshow": {
     "slide_type": "-"
    }
   },
   "source": [
    "_Note: the first `in` means a different thing to the second `in`. I was wondering if I should leave this out, but it's probably good to expose you to strange stuff!_\n",
    "\n",
    "You've seen this _pattern_ before, we used to make the grids of stars etc."
   ]
  },
  {
   "cell_type": "code",
   "execution_count": 10,
   "metadata": {},
   "outputs": [
    {
     "data": {
      "text/plain": [
       "['Goat', 'Zebu', 'duck', 'mink']"
      ]
     },
     "execution_count": 10,
     "metadata": {},
     "output_type": "execute_result"
    }
   ],
   "source": [
    "pets_we_care_about = []\n",
    "for this_pet in pets:\n",
    "    if len(this_pet) == 4:\n",
    "        pets_we_care_about.append(this_pet)\n",
    "pets_we_care_about\n"
   ]
  },
  {
   "cell_type": "markdown",
   "metadata": {},
   "source": [
    "This comes up so often that python has a built in pattern for doing this called a _list comprehension_\n",
    "\n",
    "This one is pretty silly because it takes the contents of one list and makes a new list out of it. Not doing anything else along the way."
   ]
  },
  {
   "cell_type": "code",
   "execution_count": null,
   "metadata": {},
   "outputs": [],
   "source": [
    "[p for p in pets]"
   ]
  },
  {
   "cell_type": "markdown",
   "metadata": {},
   "source": [
    "This one converts the list to uppercase while it's doing the transfer"
   ]
  },
  {
   "cell_type": "code",
   "execution_count": null,
   "metadata": {},
   "outputs": [],
   "source": [
    "[p.upper() for p in pets]"
   ]
  },
  {
   "cell_type": "markdown",
   "metadata": {},
   "source": [
    "And this one has a condition. It asks if each pet name `p` is exactly 4 characters long. If it is, it lets it through its filter."
   ]
  },
  {
   "cell_type": "code",
   "execution_count": 12,
   "metadata": {},
   "outputs": [
    {
     "data": {
      "text/plain": [
       "['Goat', 'Zebu', 'duck', 'mink']"
      ]
     },
     "execution_count": 12,
     "metadata": {},
     "output_type": "execute_result"
    }
   ],
   "source": [
    "[p for p in pets if len(p) == 4]\n"
   ]
  },
  {
   "cell_type": "markdown",
   "metadata": {},
   "source": [
    "And this one is doing both"
   ]
  },
  {
   "cell_type": "code",
   "execution_count": 13,
   "metadata": {},
   "outputs": [
    {
     "data": {
      "text/plain": [
       "['SHEEP', 'HORSE', 'GOOSE', 'LLAMA', 'GAYAL', 'GUPPY']"
      ]
     },
     "execution_count": 13,
     "metadata": {},
     "output_type": "execute_result"
    }
   ],
   "source": [
    "[p.upper() for p in pets if len(p) == 5]\n"
   ]
  },
  {
   "cell_type": "markdown",
   "metadata": {
    "slideshow": {
     "slide_type": "slide"
    }
   },
   "source": [
    "Anyway, back to our fines, it looks like we have a similar pattern of fines here, lots at the bottom end, not so many high value ones. \n",
    "\n",
    "This is using some pandas magic, not a list comprehension. The magic is that you can compare a series using < or > and get back a list of booleans. This wouldn't work using a list.\n",
    "\n",
    "Let's add one more thing too, to make these graphs less garbage 🗑, a title."
   ]
  },
  {
   "cell_type": "code",
   "execution_count": null,
   "metadata": {
    "slideshow": {
     "slide_type": "fragment"
    }
   },
   "outputs": [],
   "source": [
    "upper_bound = 3000\n",
    "crashData.FACE_VALUE[crashData.FACE_VALUE < upper_bound].hist()\n",
    "plt.title(f\"All fines under ${upper_bound}\")\n"
   ]
  },
  {
   "cell_type": "markdown",
   "metadata": {
    "slideshow": {
     "slide_type": "slide"
    }
   },
   "source": [
    "Let's see what's under $1000"
   ]
  },
  {
   "cell_type": "code",
   "execution_count": null,
   "metadata": {
    "slideshow": {
     "slide_type": "-"
    }
   },
   "outputs": [],
   "source": [
    "upper_bound = 1000\n",
    "crashData.FACE_VALUE[crashData.FACE_VALUE < upper_bound].hist()\n",
    "plt.title(f\"All fines under ${upper_bound}\")\n"
   ]
  },
  {
   "cell_type": "markdown",
   "metadata": {},
   "source": [
    "This warants some further investigation, but we'll come back to it in a bit. First, let's look at some of the other columns."
   ]
  },
  {
   "cell_type": "markdown",
   "metadata": {
    "slideshow": {
     "slide_type": "slide"
    }
   },
   "source": [
    "In the `LEGISLATION` column it tells us which law was invoked to give this fine. "
   ]
  },
  {
   "cell_type": "code",
   "execution_count": null,
   "metadata": {},
   "outputs": [],
   "source": [
    "crashData.head(2)"
   ]
  },
  {
   "cell_type": "markdown",
   "metadata": {},
   "source": [
    "We can see that `FACE_VALUE` is numbers, we call that a _continuous_ value, so we can make histograms and other kinds of plots of it. `LEGISLATION` is strings, or _categorical_ values. We can't graph a string, but we can count how many times it shows up, and graph that number."
   ]
  },
  {
   "cell_type": "code",
   "execution_count": null,
   "metadata": {
    "slideshow": {
     "slide_type": "-"
    }
   },
   "outputs": [],
   "source": [
    "crashData.LEGISLATION.value_counts()"
   ]
  },
  {
   "cell_type": "markdown",
   "metadata": {
    "slideshow": {
     "slide_type": "fragment"
    }
   },
   "source": [
    "*ROAD RULES 2008* and *2014* are pretty popular, but only one person got a ticket under the *COMBAT SPORTS REGULATION 2014* and one other person got booked for something under the *TATTOO PARLOURS REGULATION 2013*"
   ]
  },
  {
   "cell_type": "code",
   "execution_count": null,
   "metadata": {
    "slideshow": {
     "slide_type": "slide"
    }
   },
   "outputs": [],
   "source": [
    "pdvc = crashData.LEGISLATION.value_counts() # This makes a series\n",
    "pdvc.plot(kind=\"bar\")"
   ]
  },
  {
   "cell_type": "markdown",
   "metadata": {
    "slideshow": {
     "slide_type": "slide"
    }
   },
   "source": [
    "We're going to see this distribution over and over again as we look at all kinds of data set.\n",
    "\n",
    "These are probably the most common distributions, but they leave off the [power law](https://en.wikipedia.org/wiki/Power_law), which I think this probably is. \n",
    "\n",
    "![some common distributions and their relationships](https://storage.ning.com/topology/rest/1.0/file/get/136706870?profile=original&width=600) \n",
    "\n",
    "from [here](https://www.datasciencecentral.com/profiles/blogs/common-probability-distributions-the-data-scientist-s-crib-sheet)"
   ]
  },
  {
   "cell_type": "code",
   "execution_count": null,
   "metadata": {
    "slideshow": {
     "slide_type": "slide"
    }
   },
   "outputs": [],
   "source": [
    "pdvc = crashData.LEGISLATION.value_counts() \n",
    "pdvc[pdvc < 5000].plot(kind=\"bar\");"
   ]
  },
  {
   "cell_type": "markdown",
   "metadata": {
    "slideshow": {
     "slide_type": "slide"
    }
   },
   "source": [
    "This pattern keeps repeating itself:"
   ]
  },
  {
   "cell_type": "code",
   "execution_count": null,
   "metadata": {
    "slideshow": {
     "slide_type": "slide"
    }
   },
   "outputs": [],
   "source": [
    "pdvc[pdvc < 1000].plot(kind=\"bar\")"
   ]
  },
  {
   "cell_type": "code",
   "execution_count": null,
   "metadata": {
    "slideshow": {
     "slide_type": "slide"
    }
   },
   "outputs": [],
   "source": [
    "pdvc[pdvc < 100].plot(kind=\"bar\")"
   ]
  },
  {
   "cell_type": "markdown",
   "metadata": {},
   "source": [
    "There are a bunch of _keyword arguments_ that you can give to the `plot` function. In this case, let's flip it on into its side so we can read the labels more easily:"
   ]
  },
  {
   "cell_type": "code",
   "execution_count": null,
   "metadata": {
    "slideshow": {
     "slide_type": "slide"
    }
   },
   "outputs": [],
   "source": [
    "pdvc[pdvc < 3].plot(kind=\"barh\")"
   ]
  },
  {
   "cell_type": "markdown",
   "metadata": {
    "slideshow": {
     "slide_type": "slide"
    }
   },
   "source": [
    "# Making plots nice"
   ]
  },
  {
   "cell_type": "markdown",
   "metadata": {
    "slideshow": {
     "slide_type": "slide"
    }
   },
   "source": [
    "I said we'd come back to our histogram. [Here's a demo histogram from the matplotlib website](http://matplotlib.org/1.2.1/examples/pylab_examples/histogram_demo.html)."
   ]
  },
  {
   "cell_type": "code",
   "execution_count": null,
   "metadata": {},
   "outputs": [],
   "source": [
    "# This bit makes some random data. Ignore it unless you are a total nerd\n",
    "mu = 100\n",
    "sigma = 15\n",
    "x = mu + sigma * np.random.randn(10000)\n"
   ]
  },
  {
   "cell_type": "code",
   "execution_count": null,
   "metadata": {},
   "outputs": [],
   "source": [
    "# the histogram of the data\n",
    "plt.hist(x, 50, density=1, facecolor=\"green\", alpha=0.75)\n",
    "plt.xlabel(\"Smarts\")\n",
    "plt.ylabel(\"Probability\")\n",
    "plt.title(\n",
    "    r\"$\\mathrm{Histogram\\ of\\ IQ:}\\ \\mu=100,\\ \\sigma=15$\"\n",
    ")  # allows for latex formatting\n",
    "plt.grid(True)\n",
    "# plt.show()\n"
   ]
  },
  {
   "cell_type": "markdown",
   "metadata": {
    "slideshow": {
     "slide_type": "slide"
    }
   },
   "source": [
    "Here's how we made our histogram before:"
   ]
  },
  {
   "cell_type": "code",
   "execution_count": null,
   "metadata": {},
   "outputs": [],
   "source": [
    "crashData.FACE_VALUE[crashData.FACE_VALUE < 1000].hist()\n"
   ]
  },
  {
   "cell_type": "markdown",
   "metadata": {
    "slideshow": {
     "slide_type": "slide"
    }
   },
   "source": [
    "This is using the graphing tools from inside pandas\n",
    "\n",
    "And this is how we'd change it so that we can add more features, by using Matplotlib directly:"
   ]
  },
  {
   "cell_type": "code",
   "execution_count": null,
   "metadata": {},
   "outputs": [],
   "source": [
    "capped_face_value_data = crashData.FACE_VALUE[crashData.FACE_VALUE < 1000]\n",
    "\n",
    "plt.hist(capped_face_value_data)\n",
    "plt.show()\n"
   ]
  },
  {
   "cell_type": "markdown",
   "metadata": {
    "collapsed": true,
    "slideshow": {
     "slide_type": "slide"
    }
   },
   "source": [
    "Let's look at some of the things we can do to this. The docs for histograms are here: http://matplotlib.org/api/pyplot_api.html#matplotlib.pyplot.hist"
   ]
  },
  {
   "cell_type": "code",
   "execution_count": null,
   "metadata": {},
   "outputs": [],
   "source": [
    "capped_face_value_data = crashData.FACE_VALUE[crashData.FACE_VALUE < 1000]\n",
    "\n",
    "# We can keep adding things to this plot to see what's going on.\n",
    "plt.hist(capped_face_value_data, bins=10, facecolor=\"blue\", alpha=0.2)  # <-old one\n",
    "plt.hist(capped_face_value_data, bins=50, facecolor=\"green\", alpha=1)  # <-new one\n",
    "plt.show()\n"
   ]
  },
  {
   "cell_type": "markdown",
   "metadata": {
    "slideshow": {
     "slide_type": "slide"
    }
   },
   "source": [
    "We can go back to our initial, unfiltered, data:"
   ]
  },
  {
   "cell_type": "code",
   "execution_count": null,
   "metadata": {},
   "outputs": [],
   "source": [
    "plt.hist(crashData.FACE_VALUE, bins=50)\n",
    "plt.show()"
   ]
  },
  {
   "cell_type": "markdown",
   "metadata": {
    "slideshow": {
     "slide_type": "slide"
    }
   },
   "source": [
    "Instead of doing the filtering before we present the data, we can use the graph to hide the extents of an axis:"
   ]
  },
  {
   "cell_type": "code",
   "execution_count": null,
   "metadata": {},
   "outputs": [],
   "source": [
    "plt.hist(crashData[\"FACE_VALUE\"], bins=50, range=(0, 500))\n",
    "plt.show()"
   ]
  },
  {
   "cell_type": "markdown",
   "metadata": {
    "slideshow": {
     "slide_type": "slide"
    }
   },
   "source": [
    "We can nice that up a bit by pulling the parameters out as variables:\n",
    "(unmagically, no difference!)"
   ]
  },
  {
   "cell_type": "code",
   "execution_count": null,
   "metadata": {},
   "outputs": [],
   "source": [
    "number_of_bins = 50\n",
    "lower_bound = 0\n",
    "upper_bound = 1000\n",
    "plt.hist(\n",
    "    crashData.FACE_VALUE,\n",
    "    bins=number_of_bins,\n",
    "    range=(lower_bound, upper_bound),\n",
    ")\n",
    "plt.show()\n"
   ]
  },
  {
   "cell_type": "markdown",
   "metadata": {},
   "source": [
    "This is still pretty naughty, we should have at least a title and some axis lables.\n",
    "\n",
    "We do that by setting some more properties on the `plt` object.\n",
    "\n",
    "Definitely a title and some axis labels. If you make charts/plots without axis labels, Linus Torvalds kills a kitten."
   ]
  },
  {
   "cell_type": "code",
   "execution_count": null,
   "metadata": {
    "scrolled": false,
    "slideshow": {
     "slide_type": "-"
    }
   },
   "outputs": [],
   "source": [
    "number_of_bins = 100\n",
    "lower_bound = 0\n",
    "upper_bound = 1000\n",
    "\n",
    "plt.hist(crashData.FACE_VALUE, bins=number_of_bins, range=(lower_bound, upper_bound))\n",
    "plt.title(\"Number of fines of a given value issued in this period\", fontsize=15)\n",
    "plt.xlabel(\"$ value of fine\", fontsize=26)\n",
    "plt.ylabel(\"Count\", fontsize=16)\n",
    "plt.grid(True)\n",
    "plt.show()\n"
   ]
  },
  {
   "cell_type": "markdown",
   "metadata": {
    "slideshow": {
     "slide_type": "slide"
    }
   },
   "source": [
    "We could get the dates from the dataset if we wanted to be clever about it. But at the moment, the dates are just strings, not useful date objects. Let's fix that.\n",
    "\n",
    "If we reimport the date, but with a bit more cleverness, we can tell pandas to convert the dates to actual dates.\n",
    "\n",
    "Because _we_ are civilised, we use either iso dates `YYYY-MM-DD` or `DD-MM-YYYY`, but often you'll have to deal with data prepared by savages who don't respect this rational behaviour. They will use `MM-DD-YY` and other such primitive formats.\n",
    "\n",
    "The settings used here control how it's read. You can only really tell by looking at the data and working it out. E.g. are there months bigger than 12?"
   ]
  },
  {
   "cell_type": "code",
   "execution_count": null,
   "metadata": {
    "slideshow": {
     "slide_type": "-"
    }
   },
   "outputs": [],
   "source": [
    "crashData = pd.read_csv(\n",
    "    filepath,\n",
    "    infer_datetime_format=True,\n",
    "    parse_dates=[\"OFFENCE_MONTH\"],\n",
    "    dayfirst=True,\n",
    ")\n",
    "crashData.head(2)\n"
   ]
  },
  {
   "cell_type": "markdown",
   "metadata": {},
   "source": [
    "This is some straight up, powerful voodoo.\n",
    "\n",
    "We can use a simple `min()` and `max()` method on the column to get the date range."
   ]
  },
  {
   "cell_type": "code",
   "execution_count": null,
   "metadata": {},
   "outputs": [],
   "source": [
    "first_date = crashData.OFFENCE_MONTH.min()\n",
    "last_date = crashData.OFFENCE_MONTH.max()\n",
    "f\"range is: {first_date} to {last_date}\"\n"
   ]
  },
  {
   "cell_type": "markdown",
   "metadata": {},
   "source": [
    "That's not very nice to look at, so we can [use `strftime`](https://strftime.org/), which is one of the most spooky and powerful things in the python toolbox"
   ]
  },
  {
   "cell_type": "code",
   "execution_count": null,
   "metadata": {},
   "outputs": [],
   "source": [
    "date_format_pattern = \"%B, %Y\"\n",
    "earliest_date = datetime.strftime(crashData.OFFENCE_MONTH.min(), date_format_pattern)\n",
    "latest_date = datetime.strftime(crashData.OFFENCE_MONTH.max(), date_format_pattern)\n",
    "f\"range is: {earliest_date} to {latest_date}\"\n"
   ]
  },
  {
   "cell_type": "markdown",
   "metadata": {},
   "source": [
    "Which means that we can put those values into our graph title:"
   ]
  },
  {
   "cell_type": "code",
   "execution_count": null,
   "metadata": {},
   "outputs": [],
   "source": [
    "number_of_bins = 100\n",
    "lower_bound = 0\n",
    "upper_bound = 1000\n",
    "\n",
    "plt.hist(\n",
    "    crashData[\"FACE_VALUE\"], bins=number_of_bins, range=(lower_bound, upper_bound)\n",
    ")\n",
    "plt.title(\n",
    "    f\"Number of fines of a given value issued between {earliest_date} & {latest_date}\",\n",
    "    fontsize=12,\n",
    ")\n",
    "plt.xlabel(\"$ value of fine\", fontsize=10)\n",
    "plt.ylabel(\"Count\", fontsize=10)\n",
    "plt.grid(True)\n",
    "plt.show()\n"
   ]
  },
  {
   "cell_type": "markdown",
   "metadata": {
    "slideshow": {
     "slide_type": "slide"
    }
   },
   "source": [
    "We're grouping the fines by month, and then adding up the groups. Pandas' `groupby` feature allows for all kinds of clever stuff like that.\n",
    "\n",
    "I'm not going to explain `groupby` here, just be aware that it exists, and when you need it, we can go over it again."
   ]
  },
  {
   "cell_type": "code",
   "execution_count": null,
   "metadata": {
    "slideshow": {
     "slide_type": "subslide"
    }
   },
   "outputs": [],
   "source": [
    "income = crashData[[\"OFFENCE_MONTH\", \"FACE_VALUE\"]].groupby(\"OFFENCE_MONTH\").sum()\n",
    "\n",
    "plt.xkcd()\n",
    "plt.plot(income, \"x-\")\n",
    "plt.title(\"Monthly income from fines\", fontsize=18)\n",
    "plt.xlabel(\"Date\", fontsize=26)\n",
    "plt.ylabel(\"$ Value\", fontsize=26)\n",
    "plt.grid(True)\n",
    "plt.show()\n"
   ]
  },
  {
   "cell_type": "code",
   "execution_count": null,
   "metadata": {
    "slideshow": {
     "slide_type": "skip"
    }
   },
   "outputs": [],
   "source": [
    "matplotlib.rcParams.update(\n",
    "    saved_style_state\n",
    ")  # revert to regular matplotlib styles, not xkcd\n"
   ]
  },
  {
   "cell_type": "markdown",
   "metadata": {
    "slideshow": {
     "slide_type": "slide"
    }
   },
   "source": [
    "I don't expect you to learn this this week, I just want to give you a taste of what can be done, quite simply, with pandas and matplotlib.\n",
    "\n",
    "# some tricky tricks\n",
    "\n",
    "Say you have a _lot_ of rows, running things on them takes a long time. You can test on a subset of that and then come back to the full dataframe once you are more sure that it works.\n",
    "\n",
    "To do this we can use python slices in combination with the dataframe's `.loc` property."
   ]
  },
  {
   "cell_type": "code",
   "execution_count": null,
   "metadata": {},
   "outputs": [],
   "source": [
    "ss = crashData.loc[:5]\n"
   ]
  },
  {
   "cell_type": "markdown",
   "metadata": {
    "slideshow": {
     "slide_type": "slide"
    }
   },
   "source": [
    "Let's say you want to apply a function to each row in a dataframe, and save the result as a new column in the dataframe. This is where `apply` come in handy."
   ]
  },
  {
   "cell_type": "code",
   "execution_count": null,
   "metadata": {
    "slideshow": {
     "slide_type": "subslide"
    }
   },
   "outputs": [],
   "source": [
    "ss[\"day_from_lambda\"] = ss.apply(lambda x: x.OFFENCE_MONTH.day, axis=1)\n",
    "ss.head(2)\n"
   ]
  },
  {
   "cell_type": "markdown",
   "metadata": {
    "slideshow": {
     "slide_type": "subslide"
    }
   },
   "source": [
    "Above is equivalent to below, it's up to you to decide what is more readable."
   ]
  },
  {
   "cell_type": "code",
   "execution_count": null,
   "metadata": {
    "slideshow": {
     "slide_type": "-"
    }
   },
   "outputs": [],
   "source": [
    "def my_f(x):\n",
    "    return x.OFFENCE_MONTH.day\n",
    "\n",
    "\n",
    "ss[\"day_from_function\"] = ss.apply(my_f, axis=1)\n",
    "ss.head(1)\n"
   ]
  },
  {
   "cell_type": "markdown",
   "metadata": {},
   "source": [
    "Scroll all the way to the right to see the new column that we've created. Both of these ways of doing this make dan-numbers. What if we wanted to get day names? That's much easier to graph. W can use `strftime` again:"
   ]
  },
  {
   "cell_type": "code",
   "execution_count": null,
   "metadata": {},
   "outputs": [],
   "source": [
    "def my_f(x):\n",
    "    return datetime.strftime(x.OFFENCE_MONTH, \"%A\")\n",
    "\n",
    "\n",
    "ss[\"nice_day\"] = ss.apply(my_f, axis=1)\n",
    "ss.head(1)\n"
   ]
  },
  {
   "cell_type": "markdown",
   "metadata": {},
   "source": [
    "Then once we're confident that it works, we can switch back from the limited part of the dataframe to the full dataframe:"
   ]
  },
  {
   "cell_type": "code",
   "execution_count": null,
   "metadata": {},
   "outputs": [],
   "source": [
    "def my_f(x):\n",
    "    return datetime.strftime(x.OFFENCE_MONTH, \"%A\")\n",
    "\n",
    "\n",
    "crashData[\"nice_day\"] = crashData.apply(my_f, axis=1)\n",
    "crashData.nice_day.value_counts().plot(kind=\"bar\")\n"
   ]
  },
  {
   "cell_type": "markdown",
   "metadata": {
    "slideshow": {
     "slide_type": "slide"
    }
   },
   "source": [
    "And we can see that most of these fines are booked on a Sunday, which is a real _hmm_ moment 🤔\n",
    "\n",
    "This would be the kind of question that it'd be good to explore in your project.\n",
    "\n",
    "---\n",
    "\n",
    "How do we tell the computer to treat _facade_ and _fašade_ the same? What about _University of new south wales_, _University of New South Wales_, _University of NSW_, _UNSW_, _New-south_?\n",
    "\n",
    "## The answer is _folding_\n",
    "\n",
    "_(This is a \"pattern\")_"
   ]
  },
  {
   "cell_type": "code",
   "execution_count": null,
   "metadata": {
    "slideshow": {
     "slide_type": "slide"
    }
   },
   "outputs": [],
   "source": [
    "def fold(given):\n",
    "    \"\"\"Return canonical versions of inputs.\"\"\"\n",
    "\n",
    "    # Use canonical variables so that you can define once, use many times.\n",
    "    UNSW_canonical = \"uni of stairs\"\n",
    "    ben_name_cannonical = \"Ben Doherty\"\n",
    "\n",
    "    # dictionary of input:output pairs\n",
    "    folds = {\n",
    "        \"University of new south wales\": UNSW_canonical,\n",
    "        \"University of New South Wales\": UNSW_canonical,\n",
    "        \"University of NSW\": UNSW_canonical,\n",
    "        \"UNSW\": UNSW_canonical,\n",
    "        \"New-south\": UNSW_canonical,\n",
    "        \"BDoh\": ben_name_cannonical,\n",
    "        \"Benny\": ben_name_cannonical,\n",
    "        \"Mr Dockerty\": ben_name_cannonical,\n",
    "        \"Oi, Dickhead!\": ben_name_cannonical,\n",
    "    }\n",
    "\n",
    "    #     return folds[given] # needs a defensive part, but ommited for clarity.\n",
    "    default_value = given\n",
    "    return folds.get(given, default_value)\n",
    "\n",
    "\n",
    "print(fold(\"New-south\"))\n",
    "print(fold(\"BDoh\"))\n"
   ]
  },
  {
   "cell_type": "markdown",
   "metadata": {
    "slideshow": {
     "slide_type": "slide"
    }
   },
   "source": [
    "So you could use this function in an `apply` to make a new column on cleaned up values.\n",
    "\n",
    "# _fin_"
   ]
  }
 ],
 "metadata": {
  "kernelspec": {
   "display_name": "Python 3.10.4 64-bit",
   "language": "python",
   "name": "python3"
  },
  "language_info": {
   "codemirror_mode": {
    "name": "ipython",
    "version": 3
   },
   "file_extension": ".py",
   "mimetype": "text/x-python",
   "name": "python",
   "nbconvert_exporter": "python",
   "pygments_lexer": "ipython3",
   "version": "3.10.4"
  },
  "vscode": {
   "interpreter": {
    "hash": "6f5b53ea504ebfa04f8fb7433339a268f74c2ccc58003020fc3ce3105a10d9ba"
   }
  }
 },
 "nbformat": 4,
 "nbformat_minor": 1
}
